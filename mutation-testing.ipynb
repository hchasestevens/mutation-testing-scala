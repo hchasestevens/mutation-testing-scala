{
 "cells": [
  {
   "cell_type": "markdown",
   "metadata": {
    "slideshow": {
     "slide_type": "slide"
    }
   },
   "source": [
    "# Mutation Testing"
   ]
  },
  {
   "cell_type": "markdown",
   "metadata": {
    "slideshow": {
     "slide_type": "skip"
    }
   },
   "source": [
    "classpath.add(\"org.scalacheck\" %% \"scalacheck\" % \"1.13.4\")\n",
    "import org.scalacheck.Prop.forAll"
   ]
  },
  {
   "cell_type": "markdown",
   "metadata": {
    "slideshow": {
     "slide_type": "slide"
    }
   },
   "source": [
    "## Property-based testing"
   ]
  },
  {
   "cell_type": "code",
   "execution_count": 7,
   "metadata": {
    "slideshow": {
     "slide_type": "fragment"
    }
   },
   "outputs": [
    {
     "name": "stdout",
     "output_type": "stream",
     "text": [
      "\r",
      "! Exception raised on property evaluation.\n",
      "> ARG_0: List()\n",
      "> Exception: java.lang.ArithmeticException: / by zero\n",
      "cmd6$$user.average(Main.scala:25)\n",
      "cmd6$$user$$anonfun$1$$anonfun$apply$mcV$sp$1.apply(Main.scala:27)\n",
      "cmd6$$user$$anonfun$1$$anonfun$apply$mcV$sp$1.apply(Main.scala:26)\n",
      "scala.Function1$$anonfun$andThen$1.apply(Function1.scala:52)\n",
      "org.scalacheck.Prop$$anonfun$forAllShrink$1$$anonfun$3.apply(Prop.scala:712\n",
      "  )\n"
     ]
    },
    {
     "data": {
      "text/plain": [
       "defined \u001b[32mfunction \u001b[36maverage\u001b[0m"
      ]
     },
     "metadata": {},
     "output_type": "display_data"
    }
   ],
   "source": [
    "def average(xs: List[Int]) = xs.sum / xs.length\n",
    "\n",
    "forAll { (xs: List[Int]) =>\n",
    "  average(xs) <= xs.max\n",
    "}.check"
   ]
  },
  {
   "cell_type": "markdown",
   "metadata": {
    "slideshow": {
     "slide_type": "fragment"
    }
   },
   "source": [
    "- What is a good property?\n",
    "- What makes a test valuable?"
   ]
  },
  {
   "cell_type": "markdown",
   "metadata": {
    "slideshow": {
     "slide_type": "slide"
    }
   },
   "source": [
    "## Costs of testing\n",
    "- Time to write tests\n",
    "- Time to maintain tests\n",
    "- Code inertia"
   ]
  },
  {
   "cell_type": "markdown",
   "metadata": {
    "slideshow": {
     "slide_type": "slide"
    }
   },
   "source": [
    "## Measuring test value"
   ]
  },
  {
   "cell_type": "markdown",
   "metadata": {
    "slideshow": {
     "slide_type": "fragment"
    }
   },
   "source": [
    "- Code coverage?"
   ]
  },
  {
   "cell_type": "markdown",
   "metadata": {
    "slideshow": {
     "slide_type": "fragment"
    }
   },
   "source": [
    "- We don't write tests that we expect to fail"
   ]
  },
  {
   "cell_type": "markdown",
   "metadata": {
    "slideshow": {
     "slide_type": "fragment"
    }
   },
   "source": [
    "- The test _would_ fail **if** the code were incorrect"
   ]
  },
  {
   "cell_type": "markdown",
   "metadata": {
    "slideshow": {
     "slide_type": "slide"
    }
   },
   "source": [
    "## Mutation testing\n",
    "\n",
    "- Induce small code changes in hopes that they are bugs (\"mutants\")\n",
    "- Measure proportion of mutants that trigger test suite failure (are \"killed\")"
   ]
  }
 ],
 "metadata": {
  "celltoolbar": "Slideshow",
  "kernelspec": {
   "display_name": "Scala 2.11",
   "language": "scala211",
   "name": "scala211"
  },
  "language_info": {
   "codemirror_mode": "text/x-scala",
   "file_extension": ".scala",
   "mimetype": "text/x-scala",
   "name": "scala211",
   "pygments_lexer": "scala",
   "version": "2.11.7"
  }
 },
 "nbformat": 4,
 "nbformat_minor": 1
}
